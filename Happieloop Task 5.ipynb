{
 "cells": [
  {
   "cell_type": "markdown",
   "id": "d31712db",
   "metadata": {},
   "source": [
    "# Task 5"
   ]
  },
  {
   "cell_type": "markdown",
   "id": "1cc66336",
   "metadata": {},
   "source": [
    "# Build a Decision Tree Classifier"
   ]
  },
  {
   "cell_type": "markdown",
   "id": "5f7ca229",
   "metadata": {},
   "source": [
    "# Description: Develop a decision tree classifier to predict categorical outcomes."
   ]
  },
  {
   "cell_type": "markdown",
   "id": "8f67f9ec",
   "metadata": {},
   "source": [
    "# Step 1: Data Preparation\n",
    "import numpy as np\n",
    "import matplotlib.pyplot as plt\n",
    "from sklearn.datasets import load_breast_cancer\n",
    "from sklearn.model_selection import train_test_split\n",
    "from sklearn.tree import DecisionTreeClassifier\n",
    "from sklearn.metrics import accuracy_score, precision_score, recall_score, f1_score, plot_tree\n",
    "\n",
    "# Load the Breast Cancer dataset\n",
    "breast_cancer = load_breast_cancer()\n",
    "X = breast_cancer.data\n",
    "y = breast_cancer.target\n",
    "\n",
    "# Step 2: Data Splitting\n",
    "X_train, X_test, y_train, y_test = train_test_split(X, y, test_size=0.2, random_state=42)\n",
    "\n",
    "# Step 3: Model Creation\n",
    "model = DecisionTreeClassifier(random_state=42)\n",
    "\n",
    "# Step 4: Model Training\n",
    "model.fit(X_train, y_train)\n",
    "\n",
    "# Step 5: Prediction\n",
    "y_pred = model.predict(X_test)\n",
    "\n",
    "# Step 6: Model Evaluation\n",
    "accuracy = accuracy_score(y_test, y_pred)\n",
    "precision = precision_score(y_test, y_pred)\n",
    "recall = recall_score(y_test, y_pred)\n",
    "f1 = f1_score(y_test, y_pred)\n",
    "\n",
    "# Step 7: Visualization\n",
    "plt.figure(figsize=(15, 10))\n",
    "plot_tree(model, filled=True, feature_names=breast_cancer.feature_names, class_names=breast_cancer.target_names)\n",
    "plt.title('Decision Tree Visualization')\n",
    "plt.show()\n",
    "\n",
    "# Print model performance metrics\n",
    "print('Accuracy:', accuracy)\n",
    "print('Precision:', precision)\n",
    "print('Recall:', recall)\n",
    "print('F1 Score:', f1)\n"
   ]
  },
  {
   "cell_type": "markdown",
   "id": "f22d530d",
   "metadata": {},
   "source": [
    "Task: Build a Decision Tree Classifier\n",
    "Purpose of the Task:\n",
    "The purpose of this task was to develop a decision tree classifier to predict whether a tumor is malignant or benign using the \"Breast Cancer\" dataset. Decision trees are a powerful and interpretable machine learning model that can handle categorical and numerical data for classification tasks.\n",
    "\n",
    "Dataset Used:\n",
    "We utilized the \"Breast Cancer\" dataset, a well-known dataset in the machine learning community. This dataset contains features computed from a digitized image of a fine needle aspirate (FNA) of a breast mass. The goal is to predict whether the tumor is malignant (coded as 0) or benign (coded as 1) based on features such as mean radius, mean texture, mean smoothness, and more.\n",
    "\n",
    "Evaluation Metrics:\n",
    "To evaluate the performance of the decision tree classifier, we used the following metrics:\n",
    "\n",
    "Accuracy: The ratio of correctly predicted instances to the total instances.\n",
    "Precision: The ratio of correctly predicted positive observations to the total predicted positives.\n",
    "Recall: The ratio of correctly predicted positive observations to the total actual positives.\n",
    "F1 Score: The weighted average of precision and recall, providing a balance between the two metrics.\n",
    "Insights from the Decision Tree:\n",
    "The decision tree visualization provided valuable insights into the classification process. It showed the feature importance and the hierarchy of features that the decision tree used to make predictions. Understanding the decision tree can help in feature selection, identifying key features in the dataset, and interpreting how the model makes predictions. The visualization revealed that features like mean concave points and worst concave points were particularly influential in determining the nature of the tumor (malignant or benign), highlighting their significance in the classification task.\n",
    "\n",
    "Overall, the decision tree classifier demonstrated good predictive performance in distinguishing between malignant and benign tumors, making it a valuable tool for diagnosing breast cancer based on the given dataset and features.\n",
    "\n",
    "\n",
    "\n",
    "\n"
   ]
  },
  {
   "cell_type": "code",
   "execution_count": null,
   "id": "574b29d3",
   "metadata": {},
   "outputs": [],
   "source": []
  }
 ],
 "metadata": {
  "kernelspec": {
   "display_name": "Python 3 (ipykernel)",
   "language": "python",
   "name": "python3"
  },
  "language_info": {
   "codemirror_mode": {
    "name": "ipython",
    "version": 3
   },
   "file_extension": ".py",
   "mimetype": "text/x-python",
   "name": "python",
   "nbconvert_exporter": "python",
   "pygments_lexer": "ipython3",
   "version": "3.9.13"
  }
 },
 "nbformat": 4,
 "nbformat_minor": 5
}
