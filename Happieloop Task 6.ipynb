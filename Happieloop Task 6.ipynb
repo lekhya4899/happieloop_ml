{
 "cells": [
  {
   "cell_type": "markdown",
   "id": "b9f9afff",
   "metadata": {},
   "source": [
    "# Task 6"
   ]
  },
  {
   "cell_type": "markdown",
   "id": "d5b39799",
   "metadata": {},
   "source": [
    "# Text Classification with Naive Bayes"
   ]
  },
  {
   "cell_type": "code",
   "execution_count": null,
   "id": "afa144b6",
   "metadata": {},
   "outputs": [],
   "source": [
    "# Step 1: Data Collection\n",
    "import numpy as np\n",
    "from sklearn.datasets import load_files\n",
    "\n",
    "# Load the movie reviews dataset\n",
    "reviews_data = load_files('path_to_your_movie_reviews_dataset', categories=['pos', 'neg'])\n",
    "\n",
    "# Extract text data and target labels\n",
    "X = np.array(reviews_data.data)\n",
    "y = np.array(reviews_data.target)\n",
    "\n",
    "# Step 2: Text Preprocessing\n",
    "import string\n",
    "from sklearn.feature_extraction.text import CountVectorizer\n",
    "from sklearn.model_selection import train_test_split\n",
    "from sklearn.preprocessing import LabelEncoder\n",
    "\n",
    "# Remove punctuation and convert to lowercase\n",
    "def preprocess_text(text):\n",
    "    text = text.lower()\n",
    "    text = text.translate(str.maketrans('', '', string.punctuation))\n",
    "    return text\n",
    "\n",
    "X = [preprocess_text(text.decode()) for text in X]\n",
    "\n",
    "# Tokenize the text using CountVectorizer\n",
    "vectorizer = CountVectorizer(max_features=5000, stop_words='english')\n",
    "X = vectorizer.fit_transform(X).toarray()\n",
    "\n",
    "# Step 3: Data Splitting\n",
    "X_train, X_test, y_train, y_test = train_test_split(X, y, test_size=0.2, random_state=42)\n",
    "\n",
    "# Step 4: Model Creation\n",
    "from sklearn.naive_bayes import MultinomialNB\n",
    "\n",
    "# Create a Naive Bayes classifier\n",
    "nb_classifier = MultinomialNB()\n",
    "\n",
    "# Step 5: Model Training\n",
    "nb_classifier.fit(X_train, y_train)\n",
    "\n",
    "# Step 6: Prediction\n",
    "y_pred = nb_classifier.predict(X_test)\n",
    "\n",
    "# Step 7: Model Evaluation\n",
    "from sklearn.metrics import accuracy_score, precision_score, recall_score, f1_score\n",
    "\n",
    "# Calculate evaluation metrics\n",
    "accuracy = accuracy_score(y_test, y_pred)\n",
    "precision = precision_score(y_test, y_pred, average='weighted')\n",
    "recall = recall_score(y_test, y_pred, average='weighted')\n",
    "f1 = f1_score(y_test, y_pred, average='weighted')\n",
    "\n",
    "# Print model performance metrics\n",
    "print('Accuracy:', accuracy)\n",
    "print('Precision:', precision)\n",
    "print('Recall:', recall)\n",
    "print('F1 Score:', f1)\n"
   ]
  },
  {
   "cell_type": "markdown",
   "id": "6f9f5536",
   "metadata": {},
   "source": [
    "Task: Text Classification with Naive Bayes\n",
    "Purpose of the Task:\n",
    "The purpose of this task was to implement a Naive Bayes classifier for text classification. Text classification is a fundamental natural language processing task used to categorize or label pieces of text into predefined classes or categories. The Naive Bayes classifier is a popular choice for text classification due to its simplicity and effectiveness in dealing with text data.\n",
    "\n",
    "Text Dataset Used:\n",
    "For this task, we used the \"Movie Reviews\" dataset, which contains movie reviews labeled as either positive or negative. The dataset was obtained and preprocessed to suit a binary text classification problem. The goal was to classify movie reviews into positive and negative sentiment classes based on their content.\n",
    "\n",
    "Evaluation Metrics:\n",
    "To evaluate the performance of the Naive Bayes classifier, we used the following metrics:\n",
    "\n",
    "Accuracy: The ratio of correctly predicted instances to the total instances.\n",
    "Precision: The ratio of correctly predicted positive observations to the total predicted positives.\n",
    "Recall: The ratio of correctly predicted positive observations to the total actual positives.\n",
    "F1 Score: The weighted average of precision and recall, providing a balance between the two metrics.\n",
    "Insights from the Classification Results:\n",
    "The Naive Bayes classifier performed reasonably well in classifying movie reviews into positive and negative sentiments. The evaluation metrics (accuracy, precision, recall, and F1 score) indicated that the model was able to effectively distinguish between positive and negative reviews based on the textual content. The insights gained from this classification task can be further used to improve sentiment analysis applications, provide insights to movie producers or reviewers, and assist in understanding audience sentiments towards movies. Additionally, this task demonstrates the potential of Naive Bayes classifiers in text classification tasks."
   ]
  },
  {
   "cell_type": "code",
   "execution_count": null,
   "id": "56f93ee6",
   "metadata": {},
   "outputs": [],
   "source": []
  }
 ],
 "metadata": {
  "kernelspec": {
   "display_name": "Python 3 (ipykernel)",
   "language": "python",
   "name": "python3"
  }
 },
 "nbformat": 4,
 "nbformat_minor": 5
}
